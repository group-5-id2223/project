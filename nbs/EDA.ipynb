{
 "cells": [
  {
   "cell_type": "code",
   "execution_count": 1,
   "metadata": {},
   "outputs": [],
   "source": [
    "import pandas as pd\n",
    "import numpy as np\n",
    "import matplotlib.pyplot as plt\n",
    "import seaborn as sns"
   ]
  },
  {
   "cell_type": "code",
   "execution_count": 2,
   "metadata": {},
   "outputs": [],
   "source": [
    "from glob import glob"
   ]
  },
  {
   "cell_type": "code",
   "execution_count": 7,
   "metadata": {},
   "outputs": [],
   "source": [
    "tsvs = glob('../data/*.tsv')\n",
    "dfs = pd.concat([pd.read_csv(tsv, sep='\\t', usecols=lambda x: x!='id') for tsv in tsvs])"
   ]
  },
  {
   "cell_type": "code",
   "execution_count": 17,
   "metadata": {},
   "outputs": [
    {
     "data": {
      "text/html": [
       "<div>\n",
       "<style scoped>\n",
       "    .dataframe tbody tr th:only-of-type {\n",
       "        vertical-align: middle;\n",
       "    }\n",
       "\n",
       "    .dataframe tbody tr th {\n",
       "        vertical-align: top;\n",
       "    }\n",
       "\n",
       "    .dataframe thead th {\n",
       "        text-align: right;\n",
       "    }\n",
       "</style>\n",
       "<table border=\"1\" class=\"dataframe\">\n",
       "  <thead>\n",
       "    <tr style=\"text-align: right;\">\n",
       "      <th></th>\n",
       "      <th>title</th>\n",
       "      <th>url</th>\n",
       "      <th>score</th>\n",
       "      <th>time</th>\n",
       "      <th>descendants</th>\n",
       "      <th>by</th>\n",
       "      <th>karma</th>\n",
       "    </tr>\n",
       "  </thead>\n",
       "  <tbody>\n",
       "    <tr>\n",
       "      <th>0</th>\n",
       "      <td>The future of Python build systems and Gentoo</td>\n",
       "      <td>https://blogs.gentoo.org/mgorny/2021/11/07/the...</td>\n",
       "      <td>177</td>\n",
       "      <td>1639142146</td>\n",
       "      <td>78</td>\n",
       "      <td>pantalaimon</td>\n",
       "      <td>12220</td>\n",
       "    </tr>\n",
       "    <tr>\n",
       "      <th>1</th>\n",
       "      <td>A $10k Wager on the Laws of Physics</td>\n",
       "      <td>https://www.iflscience.com/physics/a-youtube-v...</td>\n",
       "      <td>1</td>\n",
       "      <td>1624806630</td>\n",
       "      <td>0</td>\n",
       "      <td>aliasEli</td>\n",
       "      <td>578</td>\n",
       "    </tr>\n",
       "    <tr>\n",
       "      <th>2</th>\n",
       "      <td>When work is a game, who wins?</td>\n",
       "      <td>http://www.newyorker.com/online/blogs/currency...</td>\n",
       "      <td>1</td>\n",
       "      <td>1379625608</td>\n",
       "      <td>0</td>\n",
       "      <td>mjn</td>\n",
       "      <td>9582</td>\n",
       "    </tr>\n",
       "    <tr>\n",
       "      <th>3</th>\n",
       "      <td>Get better at Googling</td>\n",
       "      <td>https://markodenic.com/use-google-like-a-pro/</td>\n",
       "      <td>678</td>\n",
       "      <td>1619159846</td>\n",
       "      <td>289</td>\n",
       "      <td>sudo_overflow</td>\n",
       "      <td>294</td>\n",
       "    </tr>\n",
       "    <tr>\n",
       "      <th>4</th>\n",
       "      <td>Ask HN: Review my startup, WebServius</td>\n",
       "      <td></td>\n",
       "      <td>19</td>\n",
       "      <td>1263406892</td>\n",
       "      <td>8</td>\n",
       "      <td>eugeneos</td>\n",
       "      <td>20</td>\n",
       "    </tr>\n",
       "    <tr>\n",
       "      <th>5</th>\n",
       "      <td>Running Confluent's Kafka Music Demo Application</td>\n",
       "      <td>https://asciinema.org/a/111755</td>\n",
       "      <td>1</td>\n",
       "      <td>1491604116</td>\n",
       "      <td>0</td>\n",
       "      <td>huckfinn</td>\n",
       "      <td>97</td>\n",
       "    </tr>\n",
       "    <tr>\n",
       "      <th>6</th>\n",
       "      <td>Capitalism and convenience are making us lonely</td>\n",
       "      <td>https://medium.com/@joncheung/capitalism-and-c...</td>\n",
       "      <td>38</td>\n",
       "      <td>1675615984</td>\n",
       "      <td>14</td>\n",
       "      <td>RupertWiser</td>\n",
       "      <td>376</td>\n",
       "    </tr>\n",
       "    <tr>\n",
       "      <th>7</th>\n",
       "      <td>Ongoing by Tim Bray · I/O 2010 Words and Faces</td>\n",
       "      <td>http://www.tbray.org/ongoing/When/201x/2010/05...</td>\n",
       "      <td>1</td>\n",
       "      <td>1274869201</td>\n",
       "      <td>0</td>\n",
       "      <td>wglb</td>\n",
       "      <td>60398</td>\n",
       "    </tr>\n",
       "    <tr>\n",
       "      <th>8</th>\n",
       "      <td>Don’t let another startup throw you off your game</td>\n",
       "      <td>http://giffconstable.com/2010/01/dont-let-anot...</td>\n",
       "      <td>2</td>\n",
       "      <td>1263665011</td>\n",
       "      <td>0</td>\n",
       "      <td>bensummers</td>\n",
       "      <td>16965</td>\n",
       "    </tr>\n",
       "    <tr>\n",
       "      <th>9</th>\n",
       "      <td>UK's 50 fastest-growing tech companies generat...</td>\n",
       "      <td>http://www.telegraph.co.uk/technology/news/112...</td>\n",
       "      <td>3</td>\n",
       "      <td>1417545775</td>\n",
       "      <td>0</td>\n",
       "      <td>JSeymourATL</td>\n",
       "      <td>2326</td>\n",
       "    </tr>\n",
       "  </tbody>\n",
       "</table>\n",
       "</div>"
      ],
      "text/plain": [
       "                                               title   \n",
       "0      The future of Python build systems and Gentoo  \\\n",
       "1                A $10k Wager on the Laws of Physics   \n",
       "2                     When work is a game, who wins?   \n",
       "3                             Get better at Googling   \n",
       "4              Ask HN: Review my startup, WebServius   \n",
       "5   Running Confluent's Kafka Music Demo Application   \n",
       "6    Capitalism and convenience are making us lonely   \n",
       "7     Ongoing by Tim Bray · I/O 2010 Words and Faces   \n",
       "8  Don’t let another startup throw you off your game   \n",
       "9  UK's 50 fastest-growing tech companies generat...   \n",
       "\n",
       "                                                 url  score        time   \n",
       "0  https://blogs.gentoo.org/mgorny/2021/11/07/the...    177  1639142146  \\\n",
       "1  https://www.iflscience.com/physics/a-youtube-v...      1  1624806630   \n",
       "2  http://www.newyorker.com/online/blogs/currency...      1  1379625608   \n",
       "3      https://markodenic.com/use-google-like-a-pro/    678  1619159846   \n",
       "4                                                        19  1263406892   \n",
       "5                     https://asciinema.org/a/111755      1  1491604116   \n",
       "6  https://medium.com/@joncheung/capitalism-and-c...     38  1675615984   \n",
       "7  http://www.tbray.org/ongoing/When/201x/2010/05...      1  1274869201   \n",
       "8  http://giffconstable.com/2010/01/dont-let-anot...      2  1263665011   \n",
       "9  http://www.telegraph.co.uk/technology/news/112...      3  1417545775   \n",
       "\n",
       "   descendants             by  karma  \n",
       "0           78    pantalaimon  12220  \n",
       "1            0       aliasEli    578  \n",
       "2            0            mjn   9582  \n",
       "3          289  sudo_overflow    294  \n",
       "4            8       eugeneos     20  \n",
       "5            0       huckfinn     97  \n",
       "6           14    RupertWiser    376  \n",
       "7            0           wglb  60398  \n",
       "8            0     bensummers  16965  \n",
       "9            0    JSeymourATL   2326  "
      ]
     },
     "execution_count": 17,
     "metadata": {},
     "output_type": "execute_result"
    }
   ],
   "source": [
    "dfs.head(n=10)"
   ]
  },
  {
   "cell_type": "code",
   "execution_count": 11,
   "metadata": {},
   "outputs": [
    {
     "name": "stdout",
     "output_type": "stream",
     "text": [
      "<class 'pandas.core.frame.DataFrame'>\n",
      "RangeIndex: 10000 entries, 0 to 9999\n",
      "Data columns (total 7 columns):\n",
      " #   Column       Non-Null Count  Dtype \n",
      "---  ------       --------------  ----- \n",
      " 0   title        10000 non-null  object\n",
      " 1   url          9760 non-null   object\n",
      " 2   score        10000 non-null  int64 \n",
      " 3   time         10000 non-null  int64 \n",
      " 4   descendants  10000 non-null  int64 \n",
      " 5   by           10000 non-null  object\n",
      " 6   karma        10000 non-null  int64 \n",
      "dtypes: int64(4), object(3)\n",
      "memory usage: 547.0+ KB\n"
     ]
    }
   ],
   "source": [
    "dfs.info()"
   ]
  },
  {
   "cell_type": "code",
   "execution_count": 15,
   "metadata": {},
   "outputs": [],
   "source": [
    "dfs['url'].fillna('', inplace=True)"
   ]
  },
  {
   "cell_type": "code",
   "execution_count": 16,
   "metadata": {},
   "outputs": [
    {
     "name": "stdout",
     "output_type": "stream",
     "text": [
      "<class 'pandas.core.frame.DataFrame'>\n",
      "RangeIndex: 10000 entries, 0 to 9999\n",
      "Data columns (total 7 columns):\n",
      " #   Column       Non-Null Count  Dtype \n",
      "---  ------       --------------  ----- \n",
      " 0   title        10000 non-null  object\n",
      " 1   url          10000 non-null  object\n",
      " 2   score        10000 non-null  int64 \n",
      " 3   time         10000 non-null  int64 \n",
      " 4   descendants  10000 non-null  int64 \n",
      " 5   by           10000 non-null  object\n",
      " 6   karma        10000 non-null  int64 \n",
      "dtypes: int64(4), object(3)\n",
      "memory usage: 547.0+ KB\n"
     ]
    }
   ],
   "source": [
    "dfs.info()"
   ]
  },
  {
   "cell_type": "code",
   "execution_count": 19,
   "metadata": {},
   "outputs": [
    {
     "data": {
      "text/plain": [
       "<matplotlib.collections.PathCollection at 0x7f39d01fa5c0>"
      ]
     },
     "execution_count": 19,
     "metadata": {},
     "output_type": "execute_result"
    },
    {
     "data": {
      "image/png": "[encoded data removed]",
      "text/plain": [
       "<Figure size 640x480 with 1 Axes>"
      ]
     },
     "metadata": {},
     "output_type": "display_data"
    }
   ],
   "source": [
    "plt.scatter(dfs['karma'], dfs['score'])"
   ]
  },
  {
   "cell_type": "code",
   "execution_count": 20,
   "metadata": {},
   "outputs": [
    {
     "data": {
      "text/plain": [
       "<matplotlib.collections.PathCollection at 0x7f39d01f9c90>"
      ]
     },
     "execution_count": 20,
     "metadata": {},
     "output_type": "execute_result"
    },
    {
     "data": {
      "image/png": "[encoded data removed]",
      "text/plain": [
       "<Figure size 640x480 with 1 Axes>"
      ]
     },
     "metadata": {},
     "output_type": "display_data"
    }
   ],
   "source": [
    "plt.scatter(dfs['descendants'], dfs['score'])"
   ]
  },
  {
   "cell_type": "code",
   "execution_count": null,
   "metadata": {},
   "outputs": [],
   "source": []
  }
 ],
 "metadata": {
  "kernelspec": {
   "display_name": "ailib",
   "language": "python",
   "name": "python3"
  },
  "language_info": {
   "codemirror_mode": {
    "name": "ipython",
    "version": 3
   },
   "file_extension": ".py",
   "mimetype": "text/x-python",
   "name": "python",
   "nbconvert_exporter": "python",
   "pygments_lexer": "ipython3",
   "version": "3.10.12"
  }
 },
 "nbformat": 4,
 "nbformat_minor": 2
}
